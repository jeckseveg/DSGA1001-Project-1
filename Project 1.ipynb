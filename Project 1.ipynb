{
 "cells": [
  {
   "cell_type": "markdown",
   "id": "829bd782",
   "metadata": {},
   "source": [
    "## Questions\n",
    "- Is using only chi squared tests a blunder\n",
    "- Degrees of freedom for chi squared (using dof = 8 renders questionable results)(could it be empty values?)\n",
    "- Degress of freedom equals nan for degrees of freedom = 8\n",
    "- Which chisq function do you use\n",
    "- Should i regularize counts for chi squared test (make them smaller because significance goes down with sample size)\n",
    "- When regularizing should i round to integers\n",
    "- Removal of NA's\n",
    "- Only remove row-wise for direct comparison between two movies\n",
    "- How to use charts to support\n",
    "- When to start capstone"
   ]
  },
  {
   "cell_type": "markdown",
   "id": "f34bff57",
   "metadata": {},
   "source": [
    "# Project 1"
   ]
  },
  {
   "cell_type": "code",
   "execution_count": 1,
   "id": "67651a8e",
   "metadata": {},
   "outputs": [],
   "source": [
    "import math\n",
    "import scipy\n",
    "import scipy.stats\n",
    "import sqlite3\n",
    "import numpy as np\n",
    "import pandas as pd\n",
    "import matplotlib.pyplot as plt\n",
    "from itertools import combinations"
   ]
  },
  {
   "cell_type": "code",
   "execution_count": 2,
   "id": "ee075b84",
   "metadata": {},
   "outputs": [],
   "source": [
    "df = pd.read_csv('movieReplicationSet.csv')"
   ]
  },
  {
   "cell_type": "code",
   "execution_count": 3,
   "id": "d0339d98",
   "metadata": {},
   "outputs": [
    {
     "data": {
      "text/html": [
       "<div>\n",
       "<style scoped>\n",
       "    .dataframe tbody tr th:only-of-type {\n",
       "        vertical-align: middle;\n",
       "    }\n",
       "\n",
       "    .dataframe tbody tr th {\n",
       "        vertical-align: top;\n",
       "    }\n",
       "\n",
       "    .dataframe thead th {\n",
       "        text-align: right;\n",
       "    }\n",
       "</style>\n",
       "<table border=\"1\" class=\"dataframe\">\n",
       "  <thead>\n",
       "    <tr style=\"text-align: right;\">\n",
       "      <th></th>\n",
       "      <th>The Life of David Gale (2003)</th>\n",
       "      <th>Wing Commander (1999)</th>\n",
       "      <th>Django Unchained (2012)</th>\n",
       "      <th>Alien (1979)</th>\n",
       "      <th>Indiana Jones and the Last Crusade (1989)</th>\n",
       "      <th>Snatch (2000)</th>\n",
       "      <th>Rambo: First Blood Part II (1985)</th>\n",
       "      <th>Fargo (1996)</th>\n",
       "      <th>Let the Right One In (2008)</th>\n",
       "      <th>Black Swan (2010)</th>\n",
       "      <th>...</th>\n",
       "      <th>When watching a movie I cheer or shout or talk or curse at the screen</th>\n",
       "      <th>When watching a movie I feel like the things on the screen are happening to me</th>\n",
       "      <th>As a movie unfolds I start to have problems keeping track of events that happened earlier</th>\n",
       "      <th>The emotions on the screen \"rub off\" on me - for instance if something sad is happening I get sad or if something frightening is happening I get scared</th>\n",
       "      <th>When watching a movie I get completely immersed in the alternative reality of the film</th>\n",
       "      <th>Movies change my position on social economic or political issues</th>\n",
       "      <th>When watching movies things get so intense that I have to stop watching</th>\n",
       "      <th>Gender identity (1 = female; 2 = male; 3 = self-described)</th>\n",
       "      <th>Are you an only child? (1: Yes; 0: No; -1: Did not respond)</th>\n",
       "      <th>Movies are best enjoyed alone (1: Yes; 0: No; -1: Did not respond)</th>\n",
       "    </tr>\n",
       "  </thead>\n",
       "  <tbody>\n",
       "    <tr>\n",
       "      <th>0</th>\n",
       "      <td>NaN</td>\n",
       "      <td>NaN</td>\n",
       "      <td>4.0</td>\n",
       "      <td>NaN</td>\n",
       "      <td>3.0</td>\n",
       "      <td>NaN</td>\n",
       "      <td>NaN</td>\n",
       "      <td>NaN</td>\n",
       "      <td>NaN</td>\n",
       "      <td>NaN</td>\n",
       "      <td>...</td>\n",
       "      <td>1.0</td>\n",
       "      <td>6.0</td>\n",
       "      <td>2.0</td>\n",
       "      <td>5.0</td>\n",
       "      <td>5.0</td>\n",
       "      <td>5.0</td>\n",
       "      <td>1.0</td>\n",
       "      <td>1.0</td>\n",
       "      <td>0</td>\n",
       "      <td>1</td>\n",
       "    </tr>\n",
       "    <tr>\n",
       "      <th>1</th>\n",
       "      <td>NaN</td>\n",
       "      <td>NaN</td>\n",
       "      <td>1.5</td>\n",
       "      <td>NaN</td>\n",
       "      <td>NaN</td>\n",
       "      <td>NaN</td>\n",
       "      <td>NaN</td>\n",
       "      <td>NaN</td>\n",
       "      <td>NaN</td>\n",
       "      <td>NaN</td>\n",
       "      <td>...</td>\n",
       "      <td>3.0</td>\n",
       "      <td>1.0</td>\n",
       "      <td>1.0</td>\n",
       "      <td>6.0</td>\n",
       "      <td>5.0</td>\n",
       "      <td>3.0</td>\n",
       "      <td>2.0</td>\n",
       "      <td>1.0</td>\n",
       "      <td>0</td>\n",
       "      <td>0</td>\n",
       "    </tr>\n",
       "    <tr>\n",
       "      <th>2</th>\n",
       "      <td>NaN</td>\n",
       "      <td>NaN</td>\n",
       "      <td>NaN</td>\n",
       "      <td>NaN</td>\n",
       "      <td>NaN</td>\n",
       "      <td>NaN</td>\n",
       "      <td>NaN</td>\n",
       "      <td>NaN</td>\n",
       "      <td>NaN</td>\n",
       "      <td>NaN</td>\n",
       "      <td>...</td>\n",
       "      <td>5.0</td>\n",
       "      <td>4.0</td>\n",
       "      <td>3.0</td>\n",
       "      <td>5.0</td>\n",
       "      <td>5.0</td>\n",
       "      <td>4.0</td>\n",
       "      <td>4.0</td>\n",
       "      <td>1.0</td>\n",
       "      <td>1</td>\n",
       "      <td>0</td>\n",
       "    </tr>\n",
       "    <tr>\n",
       "      <th>3</th>\n",
       "      <td>NaN</td>\n",
       "      <td>NaN</td>\n",
       "      <td>2.0</td>\n",
       "      <td>NaN</td>\n",
       "      <td>3.0</td>\n",
       "      <td>NaN</td>\n",
       "      <td>NaN</td>\n",
       "      <td>NaN</td>\n",
       "      <td>NaN</td>\n",
       "      <td>4.0</td>\n",
       "      <td>...</td>\n",
       "      <td>3.0</td>\n",
       "      <td>1.0</td>\n",
       "      <td>1.0</td>\n",
       "      <td>4.0</td>\n",
       "      <td>5.0</td>\n",
       "      <td>3.0</td>\n",
       "      <td>1.0</td>\n",
       "      <td>1.0</td>\n",
       "      <td>0</td>\n",
       "      <td>1</td>\n",
       "    </tr>\n",
       "    <tr>\n",
       "      <th>4</th>\n",
       "      <td>NaN</td>\n",
       "      <td>NaN</td>\n",
       "      <td>3.5</td>\n",
       "      <td>NaN</td>\n",
       "      <td>0.5</td>\n",
       "      <td>NaN</td>\n",
       "      <td>0.5</td>\n",
       "      <td>1.0</td>\n",
       "      <td>NaN</td>\n",
       "      <td>0.0</td>\n",
       "      <td>...</td>\n",
       "      <td>2.0</td>\n",
       "      <td>3.0</td>\n",
       "      <td>2.0</td>\n",
       "      <td>5.0</td>\n",
       "      <td>6.0</td>\n",
       "      <td>4.0</td>\n",
       "      <td>4.0</td>\n",
       "      <td>1.0</td>\n",
       "      <td>1</td>\n",
       "      <td>1</td>\n",
       "    </tr>\n",
       "  </tbody>\n",
       "</table>\n",
       "<p>5 rows × 477 columns</p>\n",
       "</div>"
      ],
      "text/plain": [
       "   The Life of David Gale (2003)  Wing Commander (1999)  \\\n",
       "0                            NaN                    NaN   \n",
       "1                            NaN                    NaN   \n",
       "2                            NaN                    NaN   \n",
       "3                            NaN                    NaN   \n",
       "4                            NaN                    NaN   \n",
       "\n",
       "   Django Unchained (2012)  Alien (1979)  \\\n",
       "0                      4.0           NaN   \n",
       "1                      1.5           NaN   \n",
       "2                      NaN           NaN   \n",
       "3                      2.0           NaN   \n",
       "4                      3.5           NaN   \n",
       "\n",
       "   Indiana Jones and the Last Crusade (1989)  Snatch (2000)  \\\n",
       "0                                        3.0            NaN   \n",
       "1                                        NaN            NaN   \n",
       "2                                        NaN            NaN   \n",
       "3                                        3.0            NaN   \n",
       "4                                        0.5            NaN   \n",
       "\n",
       "   Rambo: First Blood Part II (1985)  Fargo (1996)  \\\n",
       "0                                NaN           NaN   \n",
       "1                                NaN           NaN   \n",
       "2                                NaN           NaN   \n",
       "3                                NaN           NaN   \n",
       "4                                0.5           1.0   \n",
       "\n",
       "   Let the Right One In (2008)  Black Swan (2010)  ...  \\\n",
       "0                          NaN                NaN  ...   \n",
       "1                          NaN                NaN  ...   \n",
       "2                          NaN                NaN  ...   \n",
       "3                          NaN                4.0  ...   \n",
       "4                          NaN                0.0  ...   \n",
       "\n",
       "   When watching a movie I cheer or shout or talk or curse at the screen  \\\n",
       "0                                                1.0                       \n",
       "1                                                3.0                       \n",
       "2                                                5.0                       \n",
       "3                                                3.0                       \n",
       "4                                                2.0                       \n",
       "\n",
       "   When watching a movie I feel like the things on the screen are happening to me  \\\n",
       "0                                                6.0                                \n",
       "1                                                1.0                                \n",
       "2                                                4.0                                \n",
       "3                                                1.0                                \n",
       "4                                                3.0                                \n",
       "\n",
       "   As a movie unfolds I start to have problems keeping track of events that happened earlier  \\\n",
       "0                                                2.0                                           \n",
       "1                                                1.0                                           \n",
       "2                                                3.0                                           \n",
       "3                                                1.0                                           \n",
       "4                                                2.0                                           \n",
       "\n",
       "   The emotions on the screen \"rub off\" on me - for instance if something sad is happening I get sad or if something frightening is happening I get scared  \\\n",
       "0                                                5.0                                                                                                         \n",
       "1                                                6.0                                                                                                         \n",
       "2                                                5.0                                                                                                         \n",
       "3                                                4.0                                                                                                         \n",
       "4                                                5.0                                                                                                         \n",
       "\n",
       "   When watching a movie I get completely immersed in the alternative reality of the film  \\\n",
       "0                                                5.0                                        \n",
       "1                                                5.0                                        \n",
       "2                                                5.0                                        \n",
       "3                                                5.0                                        \n",
       "4                                                6.0                                        \n",
       "\n",
       "   Movies change my position on social economic or political issues  \\\n",
       "0                                                5.0                  \n",
       "1                                                3.0                  \n",
       "2                                                4.0                  \n",
       "3                                                3.0                  \n",
       "4                                                4.0                  \n",
       "\n",
       "   When watching movies things get so intense that I have to stop watching  \\\n",
       "0                                                1.0                         \n",
       "1                                                2.0                         \n",
       "2                                                4.0                         \n",
       "3                                                1.0                         \n",
       "4                                                4.0                         \n",
       "\n",
       "   Gender identity (1 = female; 2 = male; 3 = self-described)  \\\n",
       "0                                                1.0            \n",
       "1                                                1.0            \n",
       "2                                                1.0            \n",
       "3                                                1.0            \n",
       "4                                                1.0            \n",
       "\n",
       "   Are you an only child? (1: Yes; 0: No; -1: Did not respond)  \\\n",
       "0                                                  0             \n",
       "1                                                  0             \n",
       "2                                                  1             \n",
       "3                                                  0             \n",
       "4                                                  1             \n",
       "\n",
       "   Movies are best enjoyed alone (1: Yes; 0: No; -1: Did not respond)  \n",
       "0                                                  1                   \n",
       "1                                                  0                   \n",
       "2                                                  0                   \n",
       "3                                                  1                   \n",
       "4                                                  1                   \n",
       "\n",
       "[5 rows x 477 columns]"
      ]
     },
     "execution_count": 3,
     "metadata": {},
     "output_type": "execute_result"
    }
   ],
   "source": [
    "df.head()"
   ]
  },
  {
   "cell_type": "code",
   "execution_count": 4,
   "id": "23d2f633",
   "metadata": {},
   "outputs": [],
   "source": [
    "demographic_columns = list(df.columns[-77:]) # column names with demographic info\n",
    "movie_columns = list(df.columns[:400]) # column names containing movies\n",
    "\n",
    "alpha = 0.005 # define alpha level to compare to later\n",
    "inverse_scaling = [1,10,100,500]"
   ]
  },
  {
   "cell_type": "code",
   "execution_count": 5,
   "id": "4c9388d0",
   "metadata": {},
   "outputs": [
    {
     "data": {
      "text/plain": [
       "'UNUSED'"
      ]
     },
     "execution_count": 5,
     "metadata": {},
     "output_type": "execute_result"
    }
   ],
   "source": [
    "'''UNUSED'''\n",
    "\n",
    "def test_two_movies_for_differences(df1, df2, alpha=0.005, d_f=8):\n",
    "    \n",
    "    # chi sq testing\n",
    "    df1_value_counts = pd.Series(df1).value_counts()\n",
    "    df2_value_counts = pd.Series(df2).value_counts()\n",
    "\n",
    "    # normalizing counts\n",
    "    if(np.sum(df1_value_counts.values)>np.sum(df2_value_counts.values)):\n",
    "        num_df1_ratings = np.sum(df1_value_counts.values)\n",
    "        num_df2_ratings = np.sum(df2_value_counts.values)\n",
    "        df1_value_counts = df1_value_counts*(num_df2_ratings/num_df1_ratings)\n",
    "\n",
    "    else:\n",
    "        num_df2_ratings = np.sum(df2_value_counts.values)\n",
    "        num_df1_ratings = np.sum(df1_value_counts.values)\n",
    "        df2_value_counts = df2_value_counts*(num_df1_ratings/num_df2_ratings)\n",
    "\n",
    "\n",
    "    # fill in missing rating level with 0\n",
    "    for rating in np.linspace(0,4,9):\n",
    "        if rating not in df1_value_counts.index:\n",
    "            df1_value_counts[rating] = 0\n",
    "        if rating not in df2_value_counts.index:\n",
    "            df2_value_counts[rating] = 0\n",
    "    \n",
    "    df1_value_counts = df1_value_counts.sort_index(ascending = True)\n",
    "    df2_value_counts = df2_value_counts.sort_index(ascending = True)\n",
    "    print(df1_value_counts)\n",
    "    print(df2_value_counts)\n",
    "    \n",
    "    results = scipy.stats.chisquare(df1_value_counts.values, \n",
    "                          f_exp=df2_value_counts.values, \n",
    "                          axis=0)\n",
    "    print(results.pvalue)\n",
    "    return results.pvalue\n",
    "\n",
    "'''UNUSED'''"
   ]
  },
  {
   "cell_type": "code",
   "execution_count": 6,
   "id": "b69e7cbe",
   "metadata": {},
   "outputs": [],
   "source": [
    "# function used\n",
    "def test_all_movies_for_differences(df1, df2, alpha=0.005, d_f=8):\n",
    "    difference = 0\n",
    "\n",
    "    # for movie in available movies \n",
    "    for movie in df1.columns:\n",
    "        # reduce to selected movie\n",
    "        df1_reviews = df1[movie]\n",
    "        df2_reviews = df2[movie]\n",
    "\n",
    "        \n",
    "        # generate value counts of different ratings\n",
    "        df1_value_counts = df1_reviews.value_counts()\n",
    "        df2_value_counts = df2_reviews.value_counts()\n",
    "    \n",
    "        # fill in missing rating level with 0\n",
    "        for rating in np.linspace(0,4,9):\n",
    "            if rating not in df1_value_counts.index:\n",
    "                df1_value_counts[rating] = 1\n",
    "            if rating not in df2_value_counts.index:\n",
    "                df2_value_counts[rating] = 1\n",
    "      \n",
    "        # normalizing counts\n",
    "        if(np.sum(df1_value_counts.values)>np.sum(df2_value_counts.values)):\n",
    "            num_df1_ratings = np.sum(df1_value_counts.values)\n",
    "            num_df2_ratings = np.sum(df2_value_counts.values)\n",
    "            df1_value_counts = df1_value_counts*(num_df2_ratings/num_df1_ratings)\n",
    "            \n",
    "        else:\n",
    "            num_df2_ratings = np.sum(df2_value_counts.values)\n",
    "            num_df1_ratings = np.sum(df1_value_counts.values)\n",
    "            df2_value_counts = df2_value_counts*(num_df1_ratings/num_df2_ratings)\n",
    "            \n",
    "        df1_value_counts = df1_value_counts.sort_index(ascending = True)\n",
    "        df2_value_counts = df2_value_counts.sort_index(ascending = True)\n",
    "        \n",
    "        print(movie)\n",
    "        \n",
    "        # perform chi squared test\n",
    "        results = scipy.stats.chisquare(df1_value_counts.values, \n",
    "                  f_exp=df2_value_counts.values, \n",
    "                  axis=0) # p value is extremely small \n",
    "        print(results.pvalue)\n",
    "        # compare resulting pvalue to our alpha threshold\n",
    "        if results.pvalue>alpha:\n",
    "            continue\n",
    "        else:\n",
    "            difference+=1\n",
    "\n",
    "    ratio_with_difference = difference/len(df1.columns)\n",
    "    print(\"Ratio of movies for which we reject the null hypothesis\")\n",
    "    return ratio_with_difference"
   ]
  },
  {
   "cell_type": "code",
   "execution_count": 7,
   "id": "a9980a94",
   "metadata": {},
   "outputs": [],
   "source": [
    "def aggregate_histogram_all_movies(df1, df2):\n",
    "    series1 = df1[movie_columns[0]].dropna().value_counts().sort_index(ascending=True)\n",
    "    series2 = df2[movie_columns[0]].dropna().value_counts().sort_index(ascending=True)\n",
    "    print(series1)\n",
    "    \n",
    "    for movie in movie_columns[1:]:\n",
    "        for stars in df1[movie].dropna().value_counts().index:\n",
    "            \n",
    "            if stars not in series1.index:\n",
    "                series1[stars] = 0\n",
    "            series1[stars] += df1[movie].dropna().value_counts()[stars]\n",
    "            \n",
    "        for stars in df2[movie].dropna().value_counts().index:    \n",
    "            if stars not in series2.index:\n",
    "                series2[stars] = 0\n",
    "            series2[stars] += df2[movie].dropna().value_counts()[stars]\n",
    "    print(series1)\n",
    "    series1.plot(kind='bar')\n",
    "    plt.xlabel('Rating')\n",
    "    plt.ylabel('Rating Count')\n",
    "    plt.show()\n",
    "    series2.plot(kind='bar')\n",
    "    plt.xlabel('Rating')\n",
    "    plt.ylabel('Rating Count')\n",
    "    plt.show()\n",
    "    return"
   ]
  },
  {
   "cell_type": "markdown",
   "id": "c349754e",
   "metadata": {},
   "source": [
    "### 1) Are movies that are more popular (operationalized as having more ratings) rated higher than movies that are less popular? [Hint: You can do a median-split of popularity to determine high vs. low popularity movies]"
   ]
  },
  {
   "cell_type": "code",
   "execution_count": 8,
   "id": "c2cdda99",
   "metadata": {},
   "outputs": [],
   "source": [
    "# select only columns with movies, find average rating and median of averages\n",
    "df_movies = df[movie_columns]\n",
    "aggregate_num_ratings = np.array([df_movies[movie].value_counts().sum() for movie in df_movies.columns])\n",
    "median_num_ratings = np.median(aggregate_num_ratings)"
   ]
  },
  {
   "cell_type": "code",
   "execution_count": 9,
   "id": "94313050",
   "metadata": {},
   "outputs": [
    {
     "data": {
      "text/plain": [
       "280.535"
      ]
     },
     "execution_count": 9,
     "metadata": {},
     "output_type": "execute_result"
    }
   ],
   "source": [
    "np.mean(aggregate_num_ratings)"
   ]
  },
  {
   "cell_type": "code",
   "execution_count": 10,
   "id": "ee89edbf",
   "metadata": {},
   "outputs": [
    {
     "name": "stdout",
     "output_type": "stream",
     "text": [
      "Popular and unpopular movie counts\n",
      "200\n",
      "200\n"
     ]
    }
   ],
   "source": [
    "# generating names of popular and unpopular movies for selection from original df\n",
    "pop_movies = [[movie,num_ratings][0] for num_ratings, movie in zip(aggregate_num_ratings,movie_columns)\n",
    "               if num_ratings>=median_num_ratings]\n",
    "\n",
    "unpop_movies = [[movie,num_ratings][0] for num_ratings, movie in zip(aggregate_num_ratings,movie_columns)\n",
    "               if num_ratings<median_num_ratings]\n",
    "\n",
    "\n",
    "# confirm we split down the middle\n",
    "print(\"Popular and unpopular movie counts\")\n",
    "print(len(pop_movies))\n",
    "print(len(unpop_movies))\n",
    "\n",
    "unpop_movies_df = df[unpop_movies]\n",
    "pop_movies_df = df[pop_movies]\n",
    "\n",
    "unpop_counts_list = [unpop_movies_df[column].value_counts() for column in unpop_movies_df.columns] \n",
    "pop_counts_list = [pop_movies_df[column].value_counts() for column in pop_movies_df.columns]\n",
    "\n",
    "# adding all indices to new counts to prevent nans\n",
    "for value_count in unpop_counts_list:\n",
    "    for rating in np.linspace(0,4,9):\n",
    "        if rating not in value_count.index:\n",
    "            value_count[rating]=0\n",
    "            \n",
    "# adding all indices to new counts to prevent nans\n",
    "for value_count in pop_counts_list:\n",
    "    for rating in np.linspace(0,4,9):\n",
    "        if rating not in value_count.index:\n",
    "            value_count[rating]=0\n",
    "            \n",
    "# aggregating data\n",
    "unpop_movies_aggregate = pd.Series(data=np.zeros(9),index=[0.0,0.5,1.0,1.5,2.0,2.5,3.0,3.5,4.0])\n",
    "pop_movies_aggregate = pd.Series(data=np.zeros(9),index=[0.0,0.5,1.0,1.5,2.0,2.5,3.0,3.5,4.0])\n",
    "\n",
    "for movie_value_counts in unpop_counts_list:\n",
    "    unpop_movies_aggregate += movie_value_counts\n",
    "    \n",
    "for movie_value_counts in pop_counts_list:\n",
    "    pop_movies_aggregate += movie_value_counts\n",
    "    \n",
    "unpop_movies_aggregate = unpop_movies_aggregate*(pop_movies_aggregate.sum()/unpop_movies_aggregate.sum())"
   ]
  },
  {
   "cell_type": "code",
   "execution_count": 11,
   "id": "714307b9",
   "metadata": {},
   "outputs": [
    {
     "data": {
      "text/plain": [
       "90214.0"
      ]
     },
     "execution_count": 11,
     "metadata": {},
     "output_type": "execute_result"
    }
   ],
   "source": [
    "unpop_movies_aggregate.sum()"
   ]
  },
  {
   "cell_type": "code",
   "execution_count": 12,
   "id": "38a73c4e",
   "metadata": {},
   "outputs": [
    {
     "data": {
      "text/plain": [
       "90214.0"
      ]
     },
     "execution_count": 12,
     "metadata": {},
     "output_type": "execute_result"
    }
   ],
   "source": [
    "pop_movies_aggregate.sum()"
   ]
  },
  {
   "cell_type": "code",
   "execution_count": 13,
   "id": "19cb9764",
   "metadata": {},
   "outputs": [
    {
     "data": {
      "image/png": "[encoded data removed]",
      "text/plain": [
       "<Figure size 432x288 with 1 Axes>"
      ]
     },
     "metadata": {
      "needs_background": "light"
     },
     "output_type": "display_data"
    },
    {
     "data": {
      "image/png": "[encoded data removed]",
      "text/plain": [
       "<Figure size 432x288 with 1 Axes>"
      ]
     },
     "metadata": {
      "needs_background": "light"
     },
     "output_type": "display_data"
    }
   ],
   "source": [
    "# hists to get a gist of what's going on here\n",
    "plt.title(\"Popular Movies Ratings\")\n",
    "pop_movies_aggregate.plot(kind='bar')\n",
    "plt.show()\n",
    "\n",
    "plt.title(\"Unpopular Movies Ratings\")\n",
    "unpop_movies_aggregate.plot(kind='bar')\n",
    "plt.show()"
   ]
  },
  {
   "cell_type": "code",
   "execution_count": 14,
   "id": "f79eff8c",
   "metadata": {},
   "outputs": [
    {
     "name": "stdout",
     "output_type": "stream",
     "text": [
      "s = 1, p-value = 0.0\n",
      "s = 10, p-value = 0.0\n",
      "s = 100, p-value = 4.4577659283194885e-38\n",
      "s = 500, p-value = 4.5146967778132454e-06\n"
     ]
    }
   ],
   "source": [
    "\n",
    "for scaling in inverse_scaling:\n",
    "    results = scipy.stats.chisquare(pop_movies_aggregate.values/scaling, \n",
    "                          f_exp=unpop_movies_aggregate.values/scaling,  \n",
    "                          axis=0) # p value is extremely small \n",
    "    print(f\"s = {scaling}, p-value = {results.pvalue}\")\n",
    "\n"
   ]
  },
  {
   "cell_type": "markdown",
   "id": "2bbbece3",
   "metadata": {},
   "source": [
    "### 2) Are movies that are newer rated differently than movies that are older? [Hint: Do a median split of year of release to contrast movies in terms of whether they are old or new]\n"
   ]
  },
  {
   "cell_type": "markdown",
   "id": "6c01479f",
   "metadata": {},
   "source": [
    "# SOLVED"
   ]
  },
  {
   "cell_type": "code",
   "execution_count": 15,
   "id": "cfccaeb1",
   "metadata": {},
   "outputs": [
    {
     "name": "stdout",
     "output_type": "stream",
     "text": [
      "s = 1, p-value = 3.628347485931739e-15\n",
      "s = 10, p-value = 0.38078547759329434\n",
      "s = 100, p-value = 0.9990048292364794\n",
      "s = 500, p-value = 0.9999979110335391\n"
     ]
    }
   ],
   "source": [
    "movie_years = [int(movie[-5:-1]) for movie in movie_columns]\n",
    "median_year = np.median(movie_years)\n",
    "\n",
    "old_movies = [movie for movie in movie_columns if int(movie[-5:-1]) < median_year]\n",
    "new_movies = [movie for movie in movie_columns if int(movie[-5:-1]) >= median_year]\n",
    "\n",
    "old_movies_df = df[old_movies]\n",
    "new_movies_df = df[new_movies]\n",
    "\n",
    "old_counts_list = [old_movies_df[column].value_counts() for column in old_movies_df.columns] \n",
    "new_counts_list = [new_movies_df[column].value_counts() for column in new_movies_df.columns]\n",
    "\n",
    "# adding all indices to new counts to prevent nans\n",
    "for value_count in new_counts_list:\n",
    "    for rating in np.linspace(0,4,9):\n",
    "        if rating not in value_count.index:\n",
    "            value_count[rating]=0\n",
    "\n",
    "# aggregating data\n",
    "old_movies_aggregate = pd.Series(data=np.zeros(9),index=[0.0,0.5,1.0,1.5,2.0,2.5,3.0,3.5,4.0])\n",
    "new_movies_aggregate = pd.Series(data=np.zeros(9),index=[0.0,0.5,1.0,1.5,2.0,2.5,3.0,3.5,4.0])\n",
    "\n",
    "for movie_value_counts in old_counts_list:\n",
    "    old_movies_aggregate += movie_value_counts\n",
    "    \n",
    "for movie_value_counts in new_counts_list:\n",
    "    new_movies_aggregate += movie_value_counts\n",
    "    \n",
    "old_movies_aggregate = old_movies_aggregate*(new_movies_aggregate.sum()/old_movies_aggregate.sum())\n",
    "\n",
    "old_movies_aggregate = old_movies_aggregate.sort_index()\n",
    "new_movies_aggregate = new_movies_aggregate.sort_index()\n",
    "\n",
    "for scaling in inverse_scaling:\n",
    "    results = scipy.stats.chisquare(old_movies_aggregate.values/scaling, \n",
    "                          f_exp=new_movies_aggregate.values/scaling,\n",
    "                          axis=0) # p value is extremely small \n",
    "    print(f\"s = {scaling}, p-value = {results.pvalue}\")"
   ]
  },
  {
   "cell_type": "code",
   "execution_count": 16,
   "id": "b7b0a6fa",
   "metadata": {},
   "outputs": [
    {
     "data": {
      "text/plain": [
       "65690.0"
      ]
     },
     "execution_count": 16,
     "metadata": {},
     "output_type": "execute_result"
    }
   ],
   "source": [
    "new_movies_aggregate.sum()"
   ]
  },
  {
   "cell_type": "code",
   "execution_count": 17,
   "id": "496119e9",
   "metadata": {},
   "outputs": [
    {
     "data": {
      "text/plain": [
       "65690.0"
      ]
     },
     "execution_count": 17,
     "metadata": {},
     "output_type": "execute_result"
    }
   ],
   "source": [
    "old_movies_aggregate.sum()"
   ]
  },
  {
   "cell_type": "code",
   "execution_count": null,
   "id": "da5c3a34",
   "metadata": {},
   "outputs": [
    {
     "data": {
      "image/png": "[encoded data removed]",
      "text/plain": [
       "<Figure size 432x288 with 1 Axes>"
      ]
     },
     "metadata": {
      "needs_background": "light"
     },
     "output_type": "display_data"
    }
   ],
   "source": [
    "# hists to get a gist of what's going on here\n",
    "plt.title(\"New Movies Ratings\")\n",
    "new_movies_aggregate.plot(kind='bar')\n",
    "plt.show()\n",
    "\n",
    "plt.title(\"Old Movies Ratings\")\n",
    "old_movies_aggregate.plot(kind='bar')\n",
    "plt.show()"
   ]
  },
  {
   "cell_type": "markdown",
   "id": "4fee2446",
   "metadata": {},
   "source": [
    "## The normal chi squared says that they are different, but when we make the samples smaller, they are very closely related"
   ]
  },
  {
   "cell_type": "markdown",
   "id": "0ddb96a8",
   "metadata": {},
   "source": [
    "### 3) Is enjoyment of ‘Shrek (2001)’ gendered, i.e. do male and female viewers rate it differently?\n"
   ]
  },
  {
   "cell_type": "code",
   "execution_count": null,
   "id": "3bef5f48",
   "metadata": {},
   "outputs": [],
   "source": [
    "print([movie for movie in df.columns if \"Shrek\" in movie])"
   ]
  },
  {
   "cell_type": "code",
   "execution_count": null,
   "id": "72fa588d",
   "metadata": {},
   "outputs": [],
   "source": [
    "df_shrek = df[['Shrek (2001)','Gender identity (1 = female; 2 = male; 3 = self-described)']]"
   ]
  },
  {
   "cell_type": "code",
   "execution_count": null,
   "id": "910c1372",
   "metadata": {},
   "outputs": [],
   "source": [
    "value_counts_men = df_men['Shrek (2001)'].value_counts()\n",
    "value_counts_women = df_women['Shrek (2001)'].value_counts()\n",
    "value_counts_men[0.0] = 0\n",
    "\n",
    "value_counts_men = value_counts_men.sort_index(ascending=True)\n",
    "value_counts_women = value_counts_women.sort_index(ascending=True)\n",
    "\n",
    "value_counts_men = value_counts_men*(np.sum(value_counts_women)/np.sum(value_counts_men))"
   ]
  },
  {
   "cell_type": "code",
   "execution_count": null,
   "id": "944cffcb",
   "metadata": {},
   "outputs": [],
   "source": [
    "value_counts_men.plot(kind='bar')\n",
    "plt.title(\"Male Reviews\")\n",
    "plt.show()"
   ]
  },
  {
   "cell_type": "code",
   "execution_count": null,
   "id": "63514b2c",
   "metadata": {},
   "outputs": [],
   "source": [
    "value_counts_women.plot(kind='bar')\n",
    "plt.title(\"Female Reviews\")\n",
    "plt.show()"
   ]
  },
  {
   "cell_type": "code",
   "execution_count": null,
   "id": "4756f4ac",
   "metadata": {},
   "outputs": [],
   "source": [
    "df_men['Shrek (2001)'].mean()"
   ]
  },
  {
   "cell_type": "code",
   "execution_count": null,
   "id": "a1c6f486",
   "metadata": {},
   "outputs": [],
   "source": [
    "df_women['Shrek (2001)'].mean()"
   ]
  },
  {
   "cell_type": "code",
   "execution_count": null,
   "id": "facfd1bd",
   "metadata": {},
   "outputs": [],
   "source": [
    "# normalize the value counts so chisq operation works\n",
    "results = scipy.stats.chisquare(value_counts_men.values, \n",
    "                      f_exp=value_counts_women.values, \n",
    "                      axis=0) # p value is extremely small \n",
    "\n",
    "# reject the "
   ]
  },
  {
   "cell_type": "code",
   "execution_count": null,
   "id": "6b622e2c",
   "metadata": {},
   "outputs": [],
   "source": [
    "print(results.pvalue)\n",
    "print(results.pvalue<alpha)"
   ]
  },
  {
   "cell_type": "markdown",
   "id": "ef180b6c",
   "metadata": {},
   "source": [
    "An extremely low P-value less than our alpha threshold means that we fail to reject the null hypothesis that gender has no impact on Shrek ratings"
   ]
  },
  {
   "cell_type": "markdown",
   "id": "8b2c4570",
   "metadata": {},
   "source": [
    "### 4) What proportion of movies are rated differently by male and female viewers?\n"
   ]
  },
  {
   "cell_type": "code",
   "execution_count": null,
   "id": "592a3295",
   "metadata": {},
   "outputs": [],
   "source": [
    "# seperate by gender\n",
    "men_df = df[df['Gender identity (1 = female; 2 = male; 3 = self-described)']==2]\n",
    "women_df = df[df['Gender identity (1 = female; 2 = male; 3 = self-described)']==1]\n",
    "\n",
    "# reduce to only movie columns\n",
    "men_df = men_df[movie_columns]\n",
    "women_df = women_df[movie_columns]"
   ]
  },
  {
   "cell_type": "code",
   "execution_count": null,
   "id": "eda00a6e",
   "metadata": {
    "scrolled": true
   },
   "outputs": [],
   "source": []
  },
  {
   "cell_type": "code",
   "execution_count": null,
   "id": "26a232c5",
   "metadata": {
    "scrolled": false
   },
   "outputs": [],
   "source": [
    "test_all_movies_for_differences(men_df,women_df)"
   ]
  },
  {
   "cell_type": "markdown",
   "id": "a07287c8",
   "metadata": {},
   "source": [
    "### 5) Do people who are only children enjoy ‘The Lion King (1994)’ more than people with siblings?"
   ]
  },
  {
   "cell_type": "code",
   "execution_count": null,
   "id": "d02252e5",
   "metadata": {},
   "outputs": [],
   "source": [
    "only_child_df = df[df[\"Are you an only child? (1: Yes; 0: No; -1: Did not respond)\"]==1]\n",
    "siblings_df = df[df[\"Are you an only child? (1: Yes; 0: No; -1: Did not respond)\"]==0]\n",
    "\n",
    "only_child_df = only_child_df[\"The Lion King (1994)\"]\n",
    "siblings_df = siblings_df[\"The Lion King (1994)\"]\n",
    "\n",
    "only_child_values = only_child_df.value_counts()\n",
    "siblings_values = siblings_df.value_counts()\n",
    "\n",
    "for rating in np.linspace(0,4,9):\n",
    "    if rating not in only_child_values.index:\n",
    "        only_child_values[rating] = 0\n",
    "    if rating not in siblings_values.index:\n",
    "        siblings_values[rating] = 0\n",
    "        \n",
    "# normalizing counts\n",
    "num_only_child_ratings = np.sum(only_child_values.values)\n",
    "num_siblings_ratings = np.sum(siblings_values.values)\n",
    "only_child_values = only_child_values*round(num_siblings_ratings/num_only_child_ratings)\n",
    "\n",
    "results = scipy.stats.chisquare(only_child_values.values, \n",
    "          f_exp=siblings_values.values, \n",
    "          axis=0) # p value is extremely small "
   ]
  },
  {
   "cell_type": "code",
   "execution_count": null,
   "id": "886610e3",
   "metadata": {},
   "outputs": [],
   "source": [
    "results.pvalue"
   ]
  },
  {
   "cell_type": "code",
   "execution_count": null,
   "id": "e506b84c",
   "metadata": {},
   "outputs": [],
   "source": [
    "only_child_df.mean()"
   ]
  },
  {
   "cell_type": "code",
   "execution_count": null,
   "id": "d119887c",
   "metadata": {},
   "outputs": [],
   "source": [
    "siblings_df.mean()"
   ]
  },
  {
   "cell_type": "markdown",
   "id": "0b30e3a6",
   "metadata": {},
   "source": [
    "### 6) What proportion of movies exhibit an “only child effect”, i.e. are rated different by viewers with siblings vs. those without?"
   ]
  },
  {
   "cell_type": "code",
   "execution_count": null,
   "id": "b484d9c7",
   "metadata": {
    "scrolled": true
   },
   "outputs": [],
   "source": [
    "difference = 0\n",
    "\n",
    "only_child_df = df[df[\"Are you an only child? (1: Yes; 0: No; -1: Did not respond)\"]==1]\n",
    "siblings_df = df[df[\"Are you an only child? (1: Yes; 0: No; -1: Did not respond)\"]==0]\n",
    "only_child_df = only_child_df[movie_columns]\n",
    "siblings_df = siblings_df[movie_columns]"
   ]
  },
  {
   "cell_type": "code",
   "execution_count": null,
   "id": "3432a0ea",
   "metadata": {
    "scrolled": true
   },
   "outputs": [],
   "source": [
    "test_all_movies_for_differences(only_child_df, siblings_df)"
   ]
  },
  {
   "cell_type": "code",
   "execution_count": null,
   "id": "108a3db3",
   "metadata": {},
   "outputs": [],
   "source": [
    "aggregate_histogram_all_movies(only_child_df, siblings_df)"
   ]
  },
  {
   "cell_type": "markdown",
   "id": "65d9c0cf",
   "metadata": {},
   "source": [
    "### 7) Do people who like to watch movies socially enjoy ‘The Wolf of Wall Street (2013)’ more than those who prefer to watch them alone?"
   ]
  },
  {
   "cell_type": "code",
   "execution_count": null,
   "id": "7a3807e7",
   "metadata": {},
   "outputs": [],
   "source": [
    "solo_df = df[df['Movies are best enjoyed alone (1: Yes; 0: No; -1: Did not respond)']==1]\n",
    "group_df = df[df['Movies are best enjoyed alone (1: Yes; 0: No; -1: Did not respond)']==0]\n",
    "solo_df = solo_df['The Wolf of Wall Street (2013)']\n",
    "group_df = group_df['The Wolf of Wall Street (2013)']\n",
    "solo_df.dropna(inplace=True)\n",
    "group_df.dropna(inplace=True)\n",
    "solo_values = solo_df.value_counts()\n",
    "group_values = group_df.value_counts()"
   ]
  },
  {
   "cell_type": "code",
   "execution_count": null,
   "id": "92333c96",
   "metadata": {},
   "outputs": [],
   "source": [
    "for rating in np.linspace(0,4,9):\n",
    "    if rating not in solo_values.index:\n",
    "        solo_values[rating] = 0\n",
    "    if rating not in group_values.index:\n",
    "        group_values[rating] = 0\n",
    "        \n",
    "# normalizing counts\n",
    "num_solo_ratings = np.sum(solo_values.values)\n",
    "num_group_ratings = np.sum(group_values.values)\n",
    "solo_values = solo_values*(num_group_ratings/num_solo_ratings)\n",
    "\n",
    "results = scipy.stats.chisquare(only_child_values.values, \n",
    "          f_exp=siblings_values.values, \n",
    "          axis=0) # p value is extremely small "
   ]
  },
  {
   "cell_type": "code",
   "execution_count": null,
   "id": "dfe0fe11",
   "metadata": {},
   "outputs": [],
   "source": [
    "results.pvalue"
   ]
  },
  {
   "cell_type": "code",
   "execution_count": null,
   "id": "eb80a5db",
   "metadata": {},
   "outputs": [],
   "source": [
    "print(solo_df.mean())\n",
    "print(group_df.mean())"
   ]
  },
  {
   "cell_type": "markdown",
   "id": "222426f5",
   "metadata": {},
   "source": [
    "### 8) What proportion of movies exhibit such a “social watching” effect?"
   ]
  },
  {
   "cell_type": "code",
   "execution_count": null,
   "id": "3f6893e1",
   "metadata": {},
   "outputs": [],
   "source": [
    "solo_df = df[df['Movies are best enjoyed alone (1: Yes; 0: No; -1: Did not respond)']==1]\n",
    "group_df = df[df['Movies are best enjoyed alone (1: Yes; 0: No; -1: Did not respond)']==0]\n",
    "solo_df = solo_df[movie_columns]\n",
    "group_df = group_df[movie_columns]"
   ]
  },
  {
   "cell_type": "code",
   "execution_count": null,
   "id": "61c5a497",
   "metadata": {},
   "outputs": [],
   "source": [
    "test_all_movies_for_differences(solo_df, group_df)"
   ]
  },
  {
   "cell_type": "code",
   "execution_count": null,
   "id": "97866c78",
   "metadata": {},
   "outputs": [],
   "source": [
    "aggregate_histogram_all_movies(solo_df, group_df)"
   ]
  },
  {
   "cell_type": "markdown",
   "id": "699eb3ec",
   "metadata": {},
   "source": [
    "### 9) Is the ratings distribution of ‘Home Alone (1990)’ different than that of ‘Finding Nemo (2003)’? "
   ]
  },
  {
   "cell_type": "code",
   "execution_count": null,
   "id": "263dbed3",
   "metadata": {},
   "outputs": [],
   "source": [
    "df_both = df[['Home Alone (1990)', 'Finding Nemo (2003)']]"
   ]
  },
  {
   "cell_type": "code",
   "execution_count": null,
   "id": "19758547",
   "metadata": {},
   "outputs": [],
   "source": [
    "finding_nemo_values = df_both['Finding Nemo (2003)'].value_counts().sort_index(ascending=True)\n",
    "home_alone_values = df_both['Home Alone (1990)'].value_counts().sort_index(ascending=True)\n",
    "home_alone_values = home_alone_values*(np.sum(finding_nemo_values)/np.sum(home_alone_values))\n"
   ]
  },
  {
   "cell_type": "code",
   "execution_count": null,
   "id": "3c036b78",
   "metadata": {},
   "outputs": [],
   "source": [
    "finding_nemo_values.sum()"
   ]
  },
  {
   "cell_type": "code",
   "execution_count": null,
   "id": "b013c80b",
   "metadata": {},
   "outputs": [],
   "source": [
    "home_alone_values.sum()"
   ]
  },
  {
   "cell_type": "code",
   "execution_count": null,
   "id": "23a36720",
   "metadata": {},
   "outputs": [],
   "source": [
    "# normalize the value counts so chisq operation works\n",
    "results = scipy.stats.chisquare(home_alone_values/10, \n",
    "                      f_exp=finding_nemo_values/10, \n",
    "                      axis=0) # p value is extremely small \n"
   ]
  },
  {
   "cell_type": "code",
   "execution_count": null,
   "id": "e428489b",
   "metadata": {},
   "outputs": [],
   "source": [
    "results.pvalue"
   ]
  },
  {
   "cell_type": "code",
   "execution_count": null,
   "id": "0f78e989",
   "metadata": {},
   "outputs": [],
   "source": [
    "home_alone_values.plot(kind='bar')\n",
    "plt.show()\n",
    "finding_nemo_values.plot(kind='bar')"
   ]
  },
  {
   "cell_type": "markdown",
   "id": "ec4cccb7",
   "metadata": {},
   "source": [
    "### 10) There are ratings on movies from several franchises ([‘Star Wars’, ‘Harry Potter’, ‘The Matrix’, ‘Indiana Jones’, ‘Jurassic Park’, ‘Pirates of the Caribbean’, ‘Toy Story’, ‘Batman’]) in this dataset. How many of these are of inconsistent quality, as experienced by viewers? [Hint: You can use the keywords in quotation marks featured in this question to identify the movies that are part of each franchise]"
   ]
  },
  {
   "cell_type": "code",
   "execution_count": null,
   "id": "a06638bc",
   "metadata": {},
   "outputs": [],
   "source": [
    "franchises = ['Star Wars', 'Harry Potter', 'The Matrix', 'Indiana Jones', 'Jurassic Park', \n",
    "              'Pirates of the Caribbean', 'Toy Story', 'Batman']\n",
    "df_dict = {}\n",
    "\n",
    "null_combos = []\n",
    "null_pvalues = []\n",
    "\n",
    "diff_combos = []\n",
    "diff_pvalues = []\n",
    "\n",
    "for franchise in franchises:\n",
    "    df_dict[franchise] = df[[column for column in movie_columns if franchise in column]].dropna()"
   ]
  },
  {
   "cell_type": "code",
   "execution_count": null,
   "id": "f0050453",
   "metadata": {
    "scrolled": true
   },
   "outputs": [],
   "source": [
    "for franchise in franchises:\n",
    "    franchise_df = df_dict[franchise]\n",
    "    movie_combos = list(combinations(franchise_df.columns,2))\n",
    "    for combo in movie_combos:\n",
    "        df1 = franchise_df[combo[0]]\n",
    "        df2 = franchise_df[combo[1]]\n",
    "        print(combo)\n",
    "        df1_values = df1.value_counts().sort_index(ascending=True).values\n",
    "        df2_values = df2.value_counts().sort_index(ascending=True).values\n",
    "        # normalize the value counts so chisq operation works\n",
    "        results = scipy.stats.chisquare(df1_values, \n",
    "                      f_exp=df2_values, \n",
    "                      ddof=7, \n",
    "                      axis=0) # p value is extremely small \n",
    "        print(results.pvalue)\n",
    "        if results.pvalue>alpha:\n",
    "            null_combos.append(combo)\n",
    "            null_pvalues.append(results.pvalue)\n",
    "        else:\n",
    "            diff_combos.append(combo)\n",
    "            diff_pvalues.append(results.pvalue)\n",
    "            "
   ]
  },
  {
   "cell_type": "code",
   "execution_count": null,
   "id": "244bf780",
   "metadata": {},
   "outputs": [],
   "source": [
    "for franchise in franchises:\n",
    "    franchise_df = df_dict[franchise]\n",
    "    groups = []\n",
    "    for movie in franchise_df.columns:\n",
    "        groups.append(franchise_df[movie].values)\n",
    "        \n",
    "    results = scipy.stats.kruskal(*groups)\n",
    "    print(franchise)\n",
    "    print(results.pvalue)"
   ]
  },
  {
   "cell_type": "code",
   "execution_count": null,
   "id": "ab8ede30",
   "metadata": {
    "scrolled": true
   },
   "outputs": [],
   "source": [
    "print(\"Fail to reject null hypothesis\")\n",
    "for combo, pvalue in zip(null_combos, null_pvalues):\n",
    "    print(combo)\n",
    "    print(pvalue)\n",
    "    \n",
    "    \n",
    "print()\n",
    "print()\n",
    "print(\"Reject the null hypothesis\")\n",
    "for combo, pvalue in zip(diff_combos, diff_pvalues):\n",
    "    print(combo)\n",
    "    print(pvalue)"
   ]
  },
  {
   "cell_type": "markdown",
   "id": "0ed07e4c",
   "metadata": {},
   "source": [
    "### Extra Credit: Tell us something interesting and true (supported by a significance test of some kind) about the movies in this dataset that is not already covered by the questions above [for 5% of the grade score]."
   ]
  },
  {
   "cell_type": "markdown",
   "id": "402efea7",
   "metadata": {},
   "source": [
    "I believe the additional pairwise anlaysis of movies within each franchise sufficiently completes this criteria."
   ]
  },
  {
   "cell_type": "markdown",
   "id": "37159cdc",
   "metadata": {},
   "source": [
    "## Completed\n",
    "- ALL (let's go)"
   ]
  }
 ],
 "metadata": {
  "kernelspec": {
   "display_name": "Python 3",
   "language": "python",
   "name": "python3"
  },
  "language_info": {
   "codemirror_mode": {
    "name": "ipython",
    "version": 3
   },
   "file_extension": ".py",
   "mimetype": "text/x-python",
   "name": "python",
   "nbconvert_exporter": "python",
   "pygments_lexer": "ipython3",
   "version": "3.8.8"
  }
 },
 "nbformat": 4,
 "nbformat_minor": 5
}
