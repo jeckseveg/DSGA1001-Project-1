{
 "cells": [
  {
   "cell_type": "markdown",
   "id": "f34bff57",
   "metadata": {},
   "source": [
    "# Project 1"
   ]
  },
  {
   "cell_type": "code",
   "execution_count": 65,
   "id": "67651a8e",
   "metadata": {},
   "outputs": [],
   "source": [
    "import math\n",
    "import scipy\n",
    "import scipy.stats\n",
    "import sqlite3\n",
    "import numpy as np\n",
    "import pandas as pd\n",
    "import matplotlib.pyplot as plt\n"
   ]
  },
  {
   "cell_type": "code",
   "execution_count": 3,
   "id": "ee075b84",
   "metadata": {},
   "outputs": [],
   "source": [
    "df = pd.read_csv('movieReplicationSet.csv')"
   ]
  },
  {
   "cell_type": "code",
   "execution_count": 4,
   "id": "d0339d98",
   "metadata": {},
   "outputs": [
    {
     "data": {
      "text/html": [
       "<div>\n",
       "<style scoped>\n",
       "    .dataframe tbody tr th:only-of-type {\n",
       "        vertical-align: middle;\n",
       "    }\n",
       "\n",
       "    .dataframe tbody tr th {\n",
       "        vertical-align: top;\n",
       "    }\n",
       "\n",
       "    .dataframe thead th {\n",
       "        text-align: right;\n",
       "    }\n",
       "</style>\n",
       "<table border=\"1\" class=\"dataframe\">\n",
       "  <thead>\n",
       "    <tr style=\"text-align: right;\">\n",
       "      <th></th>\n",
       "      <th>The Life of David Gale (2003)</th>\n",
       "      <th>Wing Commander (1999)</th>\n",
       "      <th>Django Unchained (2012)</th>\n",
       "      <th>Alien (1979)</th>\n",
       "      <th>Indiana Jones and the Last Crusade (1989)</th>\n",
       "      <th>Snatch (2000)</th>\n",
       "      <th>Rambo: First Blood Part II (1985)</th>\n",
       "      <th>Fargo (1996)</th>\n",
       "      <th>Let the Right One In (2008)</th>\n",
       "      <th>Black Swan (2010)</th>\n",
       "      <th>...</th>\n",
       "      <th>When watching a movie I cheer or shout or talk or curse at the screen</th>\n",
       "      <th>When watching a movie I feel like the things on the screen are happening to me</th>\n",
       "      <th>As a movie unfolds I start to have problems keeping track of events that happened earlier</th>\n",
       "      <th>The emotions on the screen \"rub off\" on me - for instance if something sad is happening I get sad or if something frightening is happening I get scared</th>\n",
       "      <th>When watching a movie I get completely immersed in the alternative reality of the film</th>\n",
       "      <th>Movies change my position on social economic or political issues</th>\n",
       "      <th>When watching movies things get so intense that I have to stop watching</th>\n",
       "      <th>Gender identity (1 = female; 2 = male; 3 = self-described)</th>\n",
       "      <th>Are you an only child? (1: Yes; 0: No; -1: Did not respond)</th>\n",
       "      <th>Movies are best enjoyed alone (1: Yes; 0: No; -1: Did not respond)</th>\n",
       "    </tr>\n",
       "  </thead>\n",
       "  <tbody>\n",
       "    <tr>\n",
       "      <th>0</th>\n",
       "      <td>NaN</td>\n",
       "      <td>NaN</td>\n",
       "      <td>4.0</td>\n",
       "      <td>NaN</td>\n",
       "      <td>3.0</td>\n",
       "      <td>NaN</td>\n",
       "      <td>NaN</td>\n",
       "      <td>NaN</td>\n",
       "      <td>NaN</td>\n",
       "      <td>NaN</td>\n",
       "      <td>...</td>\n",
       "      <td>1.0</td>\n",
       "      <td>6.0</td>\n",
       "      <td>2.0</td>\n",
       "      <td>5.0</td>\n",
       "      <td>5.0</td>\n",
       "      <td>5.0</td>\n",
       "      <td>1.0</td>\n",
       "      <td>1.0</td>\n",
       "      <td>0</td>\n",
       "      <td>1</td>\n",
       "    </tr>\n",
       "    <tr>\n",
       "      <th>1</th>\n",
       "      <td>NaN</td>\n",
       "      <td>NaN</td>\n",
       "      <td>1.5</td>\n",
       "      <td>NaN</td>\n",
       "      <td>NaN</td>\n",
       "      <td>NaN</td>\n",
       "      <td>NaN</td>\n",
       "      <td>NaN</td>\n",
       "      <td>NaN</td>\n",
       "      <td>NaN</td>\n",
       "      <td>...</td>\n",
       "      <td>3.0</td>\n",
       "      <td>1.0</td>\n",
       "      <td>1.0</td>\n",
       "      <td>6.0</td>\n",
       "      <td>5.0</td>\n",
       "      <td>3.0</td>\n",
       "      <td>2.0</td>\n",
       "      <td>1.0</td>\n",
       "      <td>0</td>\n",
       "      <td>0</td>\n",
       "    </tr>\n",
       "    <tr>\n",
       "      <th>2</th>\n",
       "      <td>NaN</td>\n",
       "      <td>NaN</td>\n",
       "      <td>NaN</td>\n",
       "      <td>NaN</td>\n",
       "      <td>NaN</td>\n",
       "      <td>NaN</td>\n",
       "      <td>NaN</td>\n",
       "      <td>NaN</td>\n",
       "      <td>NaN</td>\n",
       "      <td>NaN</td>\n",
       "      <td>...</td>\n",
       "      <td>5.0</td>\n",
       "      <td>4.0</td>\n",
       "      <td>3.0</td>\n",
       "      <td>5.0</td>\n",
       "      <td>5.0</td>\n",
       "      <td>4.0</td>\n",
       "      <td>4.0</td>\n",
       "      <td>1.0</td>\n",
       "      <td>1</td>\n",
       "      <td>0</td>\n",
       "    </tr>\n",
       "    <tr>\n",
       "      <th>3</th>\n",
       "      <td>NaN</td>\n",
       "      <td>NaN</td>\n",
       "      <td>2.0</td>\n",
       "      <td>NaN</td>\n",
       "      <td>3.0</td>\n",
       "      <td>NaN</td>\n",
       "      <td>NaN</td>\n",
       "      <td>NaN</td>\n",
       "      <td>NaN</td>\n",
       "      <td>4.0</td>\n",
       "      <td>...</td>\n",
       "      <td>3.0</td>\n",
       "      <td>1.0</td>\n",
       "      <td>1.0</td>\n",
       "      <td>4.0</td>\n",
       "      <td>5.0</td>\n",
       "      <td>3.0</td>\n",
       "      <td>1.0</td>\n",
       "      <td>1.0</td>\n",
       "      <td>0</td>\n",
       "      <td>1</td>\n",
       "    </tr>\n",
       "    <tr>\n",
       "      <th>4</th>\n",
       "      <td>NaN</td>\n",
       "      <td>NaN</td>\n",
       "      <td>3.5</td>\n",
       "      <td>NaN</td>\n",
       "      <td>0.5</td>\n",
       "      <td>NaN</td>\n",
       "      <td>0.5</td>\n",
       "      <td>1.0</td>\n",
       "      <td>NaN</td>\n",
       "      <td>0.0</td>\n",
       "      <td>...</td>\n",
       "      <td>2.0</td>\n",
       "      <td>3.0</td>\n",
       "      <td>2.0</td>\n",
       "      <td>5.0</td>\n",
       "      <td>6.0</td>\n",
       "      <td>4.0</td>\n",
       "      <td>4.0</td>\n",
       "      <td>1.0</td>\n",
       "      <td>1</td>\n",
       "      <td>1</td>\n",
       "    </tr>\n",
       "    <tr>\n",
       "      <th>...</th>\n",
       "      <td>...</td>\n",
       "      <td>...</td>\n",
       "      <td>...</td>\n",
       "      <td>...</td>\n",
       "      <td>...</td>\n",
       "      <td>...</td>\n",
       "      <td>...</td>\n",
       "      <td>...</td>\n",
       "      <td>...</td>\n",
       "      <td>...</td>\n",
       "      <td>...</td>\n",
       "      <td>...</td>\n",
       "      <td>...</td>\n",
       "      <td>...</td>\n",
       "      <td>...</td>\n",
       "      <td>...</td>\n",
       "      <td>...</td>\n",
       "      <td>...</td>\n",
       "      <td>...</td>\n",
       "      <td>...</td>\n",
       "      <td>...</td>\n",
       "    </tr>\n",
       "    <tr>\n",
       "      <th>1092</th>\n",
       "      <td>NaN</td>\n",
       "      <td>NaN</td>\n",
       "      <td>NaN</td>\n",
       "      <td>NaN</td>\n",
       "      <td>3.5</td>\n",
       "      <td>NaN</td>\n",
       "      <td>NaN</td>\n",
       "      <td>NaN</td>\n",
       "      <td>NaN</td>\n",
       "      <td>NaN</td>\n",
       "      <td>...</td>\n",
       "      <td>3.0</td>\n",
       "      <td>4.0</td>\n",
       "      <td>3.0</td>\n",
       "      <td>5.0</td>\n",
       "      <td>5.0</td>\n",
       "      <td>4.0</td>\n",
       "      <td>4.0</td>\n",
       "      <td>1.0</td>\n",
       "      <td>0</td>\n",
       "      <td>0</td>\n",
       "    </tr>\n",
       "    <tr>\n",
       "      <th>1093</th>\n",
       "      <td>3.0</td>\n",
       "      <td>4.0</td>\n",
       "      <td>NaN</td>\n",
       "      <td>NaN</td>\n",
       "      <td>4.0</td>\n",
       "      <td>4.0</td>\n",
       "      <td>2.5</td>\n",
       "      <td>NaN</td>\n",
       "      <td>3.5</td>\n",
       "      <td>3.5</td>\n",
       "      <td>...</td>\n",
       "      <td>5.0</td>\n",
       "      <td>3.0</td>\n",
       "      <td>5.0</td>\n",
       "      <td>5.0</td>\n",
       "      <td>5.0</td>\n",
       "      <td>6.0</td>\n",
       "      <td>5.0</td>\n",
       "      <td>1.0</td>\n",
       "      <td>0</td>\n",
       "      <td>0</td>\n",
       "    </tr>\n",
       "    <tr>\n",
       "      <th>1094</th>\n",
       "      <td>NaN</td>\n",
       "      <td>NaN</td>\n",
       "      <td>NaN</td>\n",
       "      <td>NaN</td>\n",
       "      <td>NaN</td>\n",
       "      <td>NaN</td>\n",
       "      <td>NaN</td>\n",
       "      <td>3.5</td>\n",
       "      <td>NaN</td>\n",
       "      <td>NaN</td>\n",
       "      <td>...</td>\n",
       "      <td>6.0</td>\n",
       "      <td>3.0</td>\n",
       "      <td>1.0</td>\n",
       "      <td>6.0</td>\n",
       "      <td>6.0</td>\n",
       "      <td>4.0</td>\n",
       "      <td>2.0</td>\n",
       "      <td>1.0</td>\n",
       "      <td>0</td>\n",
       "      <td>0</td>\n",
       "    </tr>\n",
       "    <tr>\n",
       "      <th>1095</th>\n",
       "      <td>NaN</td>\n",
       "      <td>NaN</td>\n",
       "      <td>NaN</td>\n",
       "      <td>NaN</td>\n",
       "      <td>NaN</td>\n",
       "      <td>NaN</td>\n",
       "      <td>NaN</td>\n",
       "      <td>NaN</td>\n",
       "      <td>NaN</td>\n",
       "      <td>NaN</td>\n",
       "      <td>...</td>\n",
       "      <td>1.0</td>\n",
       "      <td>1.0</td>\n",
       "      <td>1.0</td>\n",
       "      <td>4.0</td>\n",
       "      <td>3.0</td>\n",
       "      <td>3.0</td>\n",
       "      <td>1.0</td>\n",
       "      <td>1.0</td>\n",
       "      <td>0</td>\n",
       "      <td>1</td>\n",
       "    </tr>\n",
       "    <tr>\n",
       "      <th>1096</th>\n",
       "      <td>NaN</td>\n",
       "      <td>NaN</td>\n",
       "      <td>4.0</td>\n",
       "      <td>NaN</td>\n",
       "      <td>2.5</td>\n",
       "      <td>NaN</td>\n",
       "      <td>NaN</td>\n",
       "      <td>3.0</td>\n",
       "      <td>NaN</td>\n",
       "      <td>3.5</td>\n",
       "      <td>...</td>\n",
       "      <td>3.0</td>\n",
       "      <td>4.0</td>\n",
       "      <td>1.0</td>\n",
       "      <td>4.0</td>\n",
       "      <td>4.0</td>\n",
       "      <td>4.0</td>\n",
       "      <td>1.0</td>\n",
       "      <td>1.0</td>\n",
       "      <td>0</td>\n",
       "      <td>1</td>\n",
       "    </tr>\n",
       "  </tbody>\n",
       "</table>\n",
       "<p>1097 rows × 477 columns</p>\n",
       "</div>"
      ],
      "text/plain": [
       "      The Life of David Gale (2003)  Wing Commander (1999)  \\\n",
       "0                               NaN                    NaN   \n",
       "1                               NaN                    NaN   \n",
       "2                               NaN                    NaN   \n",
       "3                               NaN                    NaN   \n",
       "4                               NaN                    NaN   \n",
       "...                             ...                    ...   \n",
       "1092                            NaN                    NaN   \n",
       "1093                            3.0                    4.0   \n",
       "1094                            NaN                    NaN   \n",
       "1095                            NaN                    NaN   \n",
       "1096                            NaN                    NaN   \n",
       "\n",
       "      Django Unchained (2012)  Alien (1979)  \\\n",
       "0                         4.0           NaN   \n",
       "1                         1.5           NaN   \n",
       "2                         NaN           NaN   \n",
       "3                         2.0           NaN   \n",
       "4                         3.5           NaN   \n",
       "...                       ...           ...   \n",
       "1092                      NaN           NaN   \n",
       "1093                      NaN           NaN   \n",
       "1094                      NaN           NaN   \n",
       "1095                      NaN           NaN   \n",
       "1096                      4.0           NaN   \n",
       "\n",
       "      Indiana Jones and the Last Crusade (1989)  Snatch (2000)  \\\n",
       "0                                           3.0            NaN   \n",
       "1                                           NaN            NaN   \n",
       "2                                           NaN            NaN   \n",
       "3                                           3.0            NaN   \n",
       "4                                           0.5            NaN   \n",
       "...                                         ...            ...   \n",
       "1092                                        3.5            NaN   \n",
       "1093                                        4.0            4.0   \n",
       "1094                                        NaN            NaN   \n",
       "1095                                        NaN            NaN   \n",
       "1096                                        2.5            NaN   \n",
       "\n",
       "      Rambo: First Blood Part II (1985)  Fargo (1996)  \\\n",
       "0                                   NaN           NaN   \n",
       "1                                   NaN           NaN   \n",
       "2                                   NaN           NaN   \n",
       "3                                   NaN           NaN   \n",
       "4                                   0.5           1.0   \n",
       "...                                 ...           ...   \n",
       "1092                                NaN           NaN   \n",
       "1093                                2.5           NaN   \n",
       "1094                                NaN           3.5   \n",
       "1095                                NaN           NaN   \n",
       "1096                                NaN           3.0   \n",
       "\n",
       "      Let the Right One In (2008)  Black Swan (2010)  ...  \\\n",
       "0                             NaN                NaN  ...   \n",
       "1                             NaN                NaN  ...   \n",
       "2                             NaN                NaN  ...   \n",
       "3                             NaN                4.0  ...   \n",
       "4                             NaN                0.0  ...   \n",
       "...                           ...                ...  ...   \n",
       "1092                          NaN                NaN  ...   \n",
       "1093                          3.5                3.5  ...   \n",
       "1094                          NaN                NaN  ...   \n",
       "1095                          NaN                NaN  ...   \n",
       "1096                          NaN                3.5  ...   \n",
       "\n",
       "      When watching a movie I cheer or shout or talk or curse at the screen  \\\n",
       "0                                                   1.0                       \n",
       "1                                                   3.0                       \n",
       "2                                                   5.0                       \n",
       "3                                                   3.0                       \n",
       "4                                                   2.0                       \n",
       "...                                                 ...                       \n",
       "1092                                                3.0                       \n",
       "1093                                                5.0                       \n",
       "1094                                                6.0                       \n",
       "1095                                                1.0                       \n",
       "1096                                                3.0                       \n",
       "\n",
       "      When watching a movie I feel like the things on the screen are happening to me  \\\n",
       "0                                                   6.0                                \n",
       "1                                                   1.0                                \n",
       "2                                                   4.0                                \n",
       "3                                                   1.0                                \n",
       "4                                                   3.0                                \n",
       "...                                                 ...                                \n",
       "1092                                                4.0                                \n",
       "1093                                                3.0                                \n",
       "1094                                                3.0                                \n",
       "1095                                                1.0                                \n",
       "1096                                                4.0                                \n",
       "\n",
       "      As a movie unfolds I start to have problems keeping track of events that happened earlier  \\\n",
       "0                                                   2.0                                           \n",
       "1                                                   1.0                                           \n",
       "2                                                   3.0                                           \n",
       "3                                                   1.0                                           \n",
       "4                                                   2.0                                           \n",
       "...                                                 ...                                           \n",
       "1092                                                3.0                                           \n",
       "1093                                                5.0                                           \n",
       "1094                                                1.0                                           \n",
       "1095                                                1.0                                           \n",
       "1096                                                1.0                                           \n",
       "\n",
       "      The emotions on the screen \"rub off\" on me - for instance if something sad is happening I get sad or if something frightening is happening I get scared  \\\n",
       "0                                                   5.0                                                                                                         \n",
       "1                                                   6.0                                                                                                         \n",
       "2                                                   5.0                                                                                                         \n",
       "3                                                   4.0                                                                                                         \n",
       "4                                                   5.0                                                                                                         \n",
       "...                                                 ...                                                                                                         \n",
       "1092                                                5.0                                                                                                         \n",
       "1093                                                5.0                                                                                                         \n",
       "1094                                                6.0                                                                                                         \n",
       "1095                                                4.0                                                                                                         \n",
       "1096                                                4.0                                                                                                         \n",
       "\n",
       "      When watching a movie I get completely immersed in the alternative reality of the film  \\\n",
       "0                                                   5.0                                        \n",
       "1                                                   5.0                                        \n",
       "2                                                   5.0                                        \n",
       "3                                                   5.0                                        \n",
       "4                                                   6.0                                        \n",
       "...                                                 ...                                        \n",
       "1092                                                5.0                                        \n",
       "1093                                                5.0                                        \n",
       "1094                                                6.0                                        \n",
       "1095                                                3.0                                        \n",
       "1096                                                4.0                                        \n",
       "\n",
       "      Movies change my position on social economic or political issues  \\\n",
       "0                                                   5.0                  \n",
       "1                                                   3.0                  \n",
       "2                                                   4.0                  \n",
       "3                                                   3.0                  \n",
       "4                                                   4.0                  \n",
       "...                                                 ...                  \n",
       "1092                                                4.0                  \n",
       "1093                                                6.0                  \n",
       "1094                                                4.0                  \n",
       "1095                                                3.0                  \n",
       "1096                                                4.0                  \n",
       "\n",
       "      When watching movies things get so intense that I have to stop watching  \\\n",
       "0                                                   1.0                         \n",
       "1                                                   2.0                         \n",
       "2                                                   4.0                         \n",
       "3                                                   1.0                         \n",
       "4                                                   4.0                         \n",
       "...                                                 ...                         \n",
       "1092                                                4.0                         \n",
       "1093                                                5.0                         \n",
       "1094                                                2.0                         \n",
       "1095                                                1.0                         \n",
       "1096                                                1.0                         \n",
       "\n",
       "      Gender identity (1 = female; 2 = male; 3 = self-described)  \\\n",
       "0                                                   1.0            \n",
       "1                                                   1.0            \n",
       "2                                                   1.0            \n",
       "3                                                   1.0            \n",
       "4                                                   1.0            \n",
       "...                                                 ...            \n",
       "1092                                                1.0            \n",
       "1093                                                1.0            \n",
       "1094                                                1.0            \n",
       "1095                                                1.0            \n",
       "1096                                                1.0            \n",
       "\n",
       "      Are you an only child? (1: Yes; 0: No; -1: Did not respond)  \\\n",
       "0                                                     0             \n",
       "1                                                     0             \n",
       "2                                                     1             \n",
       "3                                                     0             \n",
       "4                                                     1             \n",
       "...                                                 ...             \n",
       "1092                                                  0             \n",
       "1093                                                  0             \n",
       "1094                                                  0             \n",
       "1095                                                  0             \n",
       "1096                                                  0             \n",
       "\n",
       "      Movies are best enjoyed alone (1: Yes; 0: No; -1: Did not respond)  \n",
       "0                                                     1                   \n",
       "1                                                     0                   \n",
       "2                                                     0                   \n",
       "3                                                     1                   \n",
       "4                                                     1                   \n",
       "...                                                 ...                   \n",
       "1092                                                  0                   \n",
       "1093                                                  0                   \n",
       "1094                                                  0                   \n",
       "1095                                                  1                   \n",
       "1096                                                  1                   \n",
       "\n",
       "[1097 rows x 477 columns]"
      ]
     },
     "execution_count": 4,
     "metadata": {},
     "output_type": "execute_result"
    }
   ],
   "source": [
    "df"
   ]
  },
  {
   "cell_type": "code",
   "execution_count": 35,
   "id": "23d2f633",
   "metadata": {},
   "outputs": [],
   "source": [
    "demographic_columns = list(df.columns[-77:]) # column names with demographic info\n",
    "movie_columns = list(df.columns[:-77]) # column names containing movies\n",
    "\n",
    "alpha = 0.005 # define alpha level to compare to later"
   ]
  },
  {
   "cell_type": "markdown",
   "id": "c349754e",
   "metadata": {},
   "source": [
    "### 1) Are movies that are more popular (operationalized as having more ratings) rated higher than movies that are less popular? [Hint: You can do a median-split of popularity to determine high vs. low popularity movies]"
   ]
  },
  {
   "cell_type": "code",
   "execution_count": 48,
   "id": "c2cdda99",
   "metadata": {},
   "outputs": [
    {
     "name": "stdout",
     "output_type": "stream",
     "text": [
      "2.5819229982615806\n"
     ]
    }
   ],
   "source": [
    "# select only columns with movies, find average rating and median of averages\n",
    "df_movies = df[movie_columns]\n",
    "df_average_ratings = df_movies.mean()\n",
    "median_rating = np.median(df_average_ratings.values) \n",
    "print(median_rating)"
   ]
  },
  {
   "cell_type": "code",
   "execution_count": 76,
   "id": "36847b8f",
   "metadata": {},
   "outputs": [
    {
     "name": "stdout",
     "output_type": "stream",
     "text": [
      "Popular and unpopular movie counts\n",
      "200\n",
      "200\n"
     ]
    }
   ],
   "source": [
    "# generating names of popular and unpopular movies for selection from original df\n",
    "pop_movies = np.array(df_average_ratings[df_average_ratings>=median_rating].index)\n",
    "unpop_movies = np.array(df_average_ratings[df_average_ratings<median_rating].index)\n",
    "\n",
    "# confirm we split down the middle\n",
    "print(\"Popular and unpopular movie counts\")\n",
    "print(len(pop_movies))\n",
    "print(len(unpop_movies))\n",
    "\n",
    "# generating 1d list of all pop and unpop moving ratings divided by popularity\n",
    "pop_movies_ratings = np.array([df[movie].values for movie in pop_movies]).flatten()\n",
    "unpop_movies_ratings = np.array([df[movie].values for movie in unpop_movies]).flatten()\n",
    "\n",
    "# removing nans\n",
    "pop_movies_ratings = np.array([rating for rating in pop_movies_ratings if not math.isnan(rating)])\n",
    "unpop_movies_ratings = np.array([rating for rating in unpop_movies_ratings if not math.isnan(rating)])"
   ]
  },
  {
   "cell_type": "code",
   "execution_count": 77,
   "id": "19cb9764",
   "metadata": {},
   "outputs": [
    {
     "data": {
      "image/png": "[encoded data removed]",
      "text/plain": [
       "<Figure size 432x288 with 1 Axes>"
      ]
     },
     "metadata": {
      "needs_background": "light"
     },
     "output_type": "display_data"
    },
    {
     "data": {
      "image/png": "[encoded data removed]",
      "text/plain": [
       "<Figure size 432x288 with 1 Axes>"
      ]
     },
     "metadata": {
      "needs_background": "light"
     },
     "output_type": "display_data"
    }
   ],
   "source": [
    "# hists to get a gist of what's going on here\n",
    "plt.title(\"Popular Movies Ratings\")\n",
    "plt.hist(pop_movies_ratings)\n",
    "plt.show()\n",
    "\n",
    "\n",
    "plt.title(\"Unpopular Movies Ratings\")\n",
    "plt.hist(unpop_movies_ratings)\n",
    "plt.show()"
   ]
  },
  {
   "cell_type": "code",
   "execution_count": 86,
   "id": "43b0b303",
   "metadata": {},
   "outputs": [
    {
     "data": {
      "image/png": "[encoded data removed]",
      "text/plain": [
       "<Figure size 432x288 with 1 Axes>"
      ]
     },
     "metadata": {
      "needs_background": "light"
     },
     "output_type": "display_data"
    }
   ],
   "source": [
    "# box and whisker plot to get a further gist of what's going on here\n",
    "plt.title(\"Popular Movies Ratings\")\n",
    "plt.boxplot([pop_movies_ratings,unpop_movies_ratings])\n",
    "plt.xticks([1,2],labels=[\"Popular\",\"Unpopular\"])\n",
    "plt.show()"
   ]
  },
  {
   "cell_type": "markdown",
   "id": "2bbbece3",
   "metadata": {},
   "source": [
    "### 2) Are movies that are newer rated differently than movies that are older? [Hint: Do a median split of year of release to contrast movies in terms of whether they are old or new]\n"
   ]
  },
  {
   "cell_type": "markdown",
   "id": "0ddb96a8",
   "metadata": {},
   "source": [
    "### 3) Is enjoyment of ‘Shrek (2001)’ gendered, i.e. do male and female viewers rate it differently?\n"
   ]
  },
  {
   "cell_type": "code",
   "execution_count": 6,
   "id": "3bef5f48",
   "metadata": {},
   "outputs": [
    {
     "name": "stdout",
     "output_type": "stream",
     "text": [
      "['Shrek 2 (2004)', 'Shrek (2001)']\n"
     ]
    }
   ],
   "source": [
    "print([movie for movie in df.columns if \"Shrek\" in movie])"
   ]
  },
  {
   "cell_type": "code",
   "execution_count": 7,
   "id": "72fa588d",
   "metadata": {},
   "outputs": [],
   "source": [
    "df_shrek = df[['Shrek (2001)','Gender identity (1 = female; 2 = male; 3 = self-described)']]"
   ]
  },
  {
   "cell_type": "code",
   "execution_count": 88,
   "id": "a62df177",
   "metadata": {},
   "outputs": [
    {
     "data": {
      "image/png": "[encoded data removed]",
      "text/plain": [
       "<Figure size 432x288 with 1 Axes>"
      ]
     },
     "metadata": {
      "needs_background": "light"
     },
     "output_type": "display_data"
    }
   ],
   "source": [
    "df_women = df_shrek[df_shrek['Gender identity (1 = female; 2 = male; 3 = self-described)']==1]\n",
    "df_women['Shrek (2001)'].hist()\n",
    "plt.show()"
   ]
  },
  {
   "cell_type": "code",
   "execution_count": 89,
   "id": "e7be8414",
   "metadata": {},
   "outputs": [
    {
     "data": {
      "image/png": "[encoded data removed]",
      "text/plain": [
       "<Figure size 432x288 with 1 Axes>"
      ]
     },
     "metadata": {
      "needs_background": "light"
     },
     "output_type": "display_data"
    }
   ],
   "source": [
    "df_men = df_shrek[df_shrek['Gender identity (1 = female; 2 = male; 3 = self-described)']==2]\n",
    "df_men['Shrek (2001)'].hist()\n",
    "plt.show()"
   ]
  },
  {
   "cell_type": "code",
   "execution_count": 10,
   "id": "910c1372",
   "metadata": {},
   "outputs": [],
   "source": [
    "value_counts_men = df_men['Shrek (2001)'].value_counts()\n",
    "value_counts_men['0.0'] = 0\n",
    "value_counts_women = df_women['Shrek (2001)'].value_counts()\n"
   ]
  },
  {
   "cell_type": "code",
   "execution_count": 11,
   "id": "084063a8",
   "metadata": {},
   "outputs": [
    {
     "name": "stdout",
     "output_type": "stream",
     "text": [
      "4.0    65\n",
      "3.0    61\n",
      "3.5    46\n",
      "2.5    31\n",
      "2.0    20\n",
      "1.5     9\n",
      "1.0     7\n",
      "0.5     2\n",
      "0.0     0\n",
      "Name: Shrek (2001), dtype: int64\n",
      "count     9.000000\n",
      "mean     26.777778\n",
      "std      25.257562\n",
      "min       0.000000\n",
      "25%       7.000000\n",
      "50%      20.000000\n",
      "75%      46.000000\n",
      "max      65.000000\n",
      "Name: Shrek (2001), dtype: float64\n"
     ]
    }
   ],
   "source": [
    "print(value_counts_men)\n",
    "print(value_counts_men.describe())"
   ]
  },
  {
   "cell_type": "code",
   "execution_count": 12,
   "id": "4c65586d",
   "metadata": {},
   "outputs": [
    {
     "name": "stdout",
     "output_type": "stream",
     "text": [
      "4.0    249\n",
      "3.5    166\n",
      "3.0    133\n",
      "2.5     85\n",
      "2.0     45\n",
      "1.5     26\n",
      "1.0     20\n",
      "0.5     14\n",
      "0.0      5\n",
      "Name: Shrek (2001), dtype: int64\n",
      "count      9.000000\n",
      "mean      82.555556\n",
      "std       84.004630\n",
      "min        5.000000\n",
      "25%       20.000000\n",
      "50%       45.000000\n",
      "75%      133.000000\n",
      "max      249.000000\n",
      "Name: Shrek (2001), dtype: float64\n"
     ]
    }
   ],
   "source": [
    "print(value_counts_women)\n",
    "print(value_counts_women.describe())"
   ]
  },
  {
   "cell_type": "code",
   "execution_count": 19,
   "id": "6e44d831",
   "metadata": {},
   "outputs": [
    {
     "name": "stdout",
     "output_type": "stream",
     "text": [
      "241\n",
      "743\n",
      "723\n"
     ]
    }
   ],
   "source": [
    "print(sum(value_counts_men.values))\n",
    "print(sum(value_counts_women.values))\n",
    "print(sum(value_counts_men.values*3))"
   ]
  },
  {
   "cell_type": "code",
   "execution_count": 20,
   "id": "facfd1bd",
   "metadata": {},
   "outputs": [],
   "source": [
    "# normalize the value counts so chisq operation works\n",
    "results = scipy.stats.chisquare(value_counts_men.values*3, \n",
    "                      f_exp=value_counts_women.values, \n",
    "                      ddof=7, \n",
    "                      axis=0) # p value is extremely small \n",
    "\n",
    "# reject the "
   ]
  },
  {
   "cell_type": "code",
   "execution_count": 24,
   "id": "6b622e2c",
   "metadata": {},
   "outputs": [
    {
     "name": "stdout",
     "output_type": "stream",
     "text": [
      "7.043919441304125e-08\n",
      "True\n"
     ]
    }
   ],
   "source": [
    "print(results.pvalue)\n",
    "print(results.pvalue<alpha)"
   ]
  },
  {
   "cell_type": "markdown",
   "id": "ef180b6c",
   "metadata": {},
   "source": [
    "An extremely low P-value less than our alpha threshold means that we fail to reject the null hypothesis that gender has no impact on Shrek ratings"
   ]
  },
  {
   "cell_type": "markdown",
   "id": "8b2c4570",
   "metadata": {},
   "source": [
    "### 4) What proportion of movies are rated differently by male and female viewers?\n"
   ]
  },
  {
   "cell_type": "code",
   "execution_count": 90,
   "id": "592a3295",
   "metadata": {},
   "outputs": [],
   "source": [
    "# seperate by gender\n",
    "men_df = df[df['Gender identity (1 = female; 2 = male; 3 = self-described)']==2]\n",
    "women_df = df[df['Gender identity (1 = female; 2 = male; 3 = self-described)']==1]\n",
    "\n",
    "# reduce to only movie columns\n",
    "men_df = men_df[movie_columns]\n",
    "women_df = women_df[movie_columns]"
   ]
  },
  {
   "cell_type": "code",
   "execution_count": null,
   "id": "eda00a6e",
   "metadata": {},
   "outputs": [],
   "source": [
    "for movie in men_df.columns"
   ]
  },
  {
   "cell_type": "markdown",
   "id": "a07287c8",
   "metadata": {},
   "source": [
    "### 5) Do people who are only children enjoy ‘The Lion King (1994)’ more than people with siblings?"
   ]
  },
  {
   "cell_type": "code",
   "execution_count": 91,
   "id": "d02252e5",
   "metadata": {},
   "outputs": [
    {
     "data": {
      "text/plain": [
       "['I enjoy driving fast',\n",
       " 'I enjoy rollercoasters ',\n",
       " 'Have you ever bungee-jumped?',\n",
       " 'I enjoy impulse shopping',\n",
       " 'I sometimes go out on weeknights even if I have work to do',\n",
       " 'I enjoy doing things without too much planning ',\n",
       " 'Have you ever been rock climbing?',\n",
       " 'I enjoy being in large loud crowds like the Times Square Ball Drop on New Years Eve',\n",
       " 'I enjoy going to large music or dance festivals ',\n",
       " 'I enjoy watching horror movies',\n",
       " 'No risk - No fun',\n",
       " 'I like to be surprised even if it startles or scares me',\n",
       " 'Have you ever parachuted?',\n",
       " 'I enjoy haunted houses',\n",
       " 'I had a sheltered upbringing',\n",
       " 'My life is very stressful',\n",
       " 'I value my life to be well ordered and predictable',\n",
       " 'Have you ridden a motorcycle?',\n",
       " 'Have you gambled or bet for money?',\n",
       " 'Have you ever been sky-diving?',\n",
       " 'Is talkative',\n",
       " 'Tends to find fault with others',\n",
       " 'Does a thorough job',\n",
       " 'Is depressed/Blue',\n",
       " 'Is original/comes up with new ideas',\n",
       " 'Is reserved',\n",
       " 'Is helpful and unselfish with others',\n",
       " 'Can be somewhat careless',\n",
       " 'Is relaxed/handles stress well',\n",
       " 'Is curious about many different things',\n",
       " 'Is full of energy',\n",
       " 'Starts quarrels with others',\n",
       " 'Is a reliable worker',\n",
       " 'Can be tense',\n",
       " 'Is ingenious/a deep thinker',\n",
       " 'Generates a lot of Enthusiasm',\n",
       " 'Has a forgiving nature',\n",
       " 'Tends to be disorganized',\n",
       " 'Worries a lot',\n",
       " 'Has an active imagination',\n",
       " 'Tends to be quiet',\n",
       " 'Is generally trusting',\n",
       " 'Tends to be lazy',\n",
       " 'Is emotionally stable/not easily upset',\n",
       " 'is inventive',\n",
       " 'Has an assertive personality',\n",
       " 'Can be cold and aloof',\n",
       " 'Perseveres until the task is finished',\n",
       " 'Can be moody',\n",
       " 'Values artistic/aesthetic experiences',\n",
       " 'Is sometimes shy/inhibited',\n",
       " 'Is considerate and kind to almost everyone',\n",
       " 'Does things efficiently',\n",
       " 'Remains calm in tense situations',\n",
       " 'Prefers work that is routine',\n",
       " 'is outgoing/sociable',\n",
       " 'Is sometimes rude to others',\n",
       " 'Makes plans and follows through with them',\n",
       " 'Gets nervous easily',\n",
       " 'Likes to reflect/play with ideas',\n",
       " 'Has few artistic interests',\n",
       " 'Likes to cooperate with others',\n",
       " 'Is easily distracted',\n",
       " 'Is sophisticated in art or music or literature',\n",
       " 'I have cried during a movie',\n",
       " 'I have trouble following the story of a movie',\n",
       " 'I have trouble remembering the story of a movie a couple of days after seeing it',\n",
       " 'When watching a movie I cheer or shout or talk or curse at the screen',\n",
       " 'When watching a movie I feel like the things on the screen are happening to me',\n",
       " 'As a movie unfolds I start to have problems keeping track of events that happened earlier',\n",
       " 'The emotions on the screen \"rub off\" on me - for instance if something sad is happening I get sad or if something frightening is happening I get scared',\n",
       " 'When watching a movie I get completely immersed in the alternative reality of the film',\n",
       " 'Movies change my position on social economic or political issues',\n",
       " 'When watching movies things get so intense that I have to stop watching',\n",
       " 'Gender identity (1 = female; 2 = male; 3 = self-described)',\n",
       " 'Are you an only child? (1: Yes; 0: No; -1: Did not respond)',\n",
       " 'Movies are best enjoyed alone (1: Yes; 0: No; -1: Did not respond)']"
      ]
     },
     "execution_count": 91,
     "metadata": {},
     "output_type": "execute_result"
    }
   ],
   "source": [
    "\"Are you an only child? (1: Yes; 0: No; -1: Did not respond)\""
   ]
  },
  {
   "cell_type": "markdown",
   "id": "0b30e3a6",
   "metadata": {},
   "source": [
    "### 6) What proportion of movies exhibit an “only child effect”, i.e. are rated different by viewers with siblings vs. those without?"
   ]
  },
  {
   "cell_type": "markdown",
   "id": "65d9c0cf",
   "metadata": {},
   "source": [
    "### 7) Do people who like to watch movies socially enjoy ‘The Wolf of Wall Street (2013)’ more than those who prefer to watch them alone?"
   ]
  },
  {
   "cell_type": "markdown",
   "id": "222426f5",
   "metadata": {},
   "source": [
    "### 8) What proportion of movies exhibit such a “social watching” effect?"
   ]
  },
  {
   "cell_type": "markdown",
   "id": "699eb3ec",
   "metadata": {},
   "source": [
    "### 9) Is the ratings distribution of ‘Home Alone (1990)’ different than that of ‘Finding Nemo (2003)’? "
   ]
  },
  {
   "cell_type": "markdown",
   "id": "0ed07e4c",
   "metadata": {},
   "source": [
    "### "
   ]
  }
 ],
 "metadata": {
  "kernelspec": {
   "display_name": "Python 3",
   "language": "python",
   "name": "python3"
  },
  "language_info": {
   "codemirror_mode": {
    "name": "ipython",
    "version": 3
   },
   "file_extension": ".py",
   "mimetype": "text/x-python",
   "name": "python",
   "nbconvert_exporter": "python",
   "pygments_lexer": "ipython3",
   "version": "3.8.8"
  }
 },
 "nbformat": 4,
 "nbformat_minor": 5
}
